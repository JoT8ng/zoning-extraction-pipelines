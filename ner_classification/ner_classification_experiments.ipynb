{
 "cells": [
  {
   "cell_type": "markdown",
   "id": "a5e10c98",
   "metadata": {},
   "source": [
    "# Zero shot NER classification experiments - testing and comparing different LLM models\n",
    "\n",
    "### Introduction\n",
    "\n",
    "Zoning By-laws contain important information about land use, building height, density, and other development regulations. They are important documents that inform urban planning and development decisions in cities.\n",
    "\n",
    "They are often stored as long, unstructured PDF legal documents and it's difficult to find information within them. Zoning information is also spatial and tied to geospatial datasets. It would be great if the zoning information in the by-laws could be extracted in an efficient and automated way and joined with geospatial datasets.\n",
    "\n",
    "### Why DistilBERT and LegalBERT\n",
    "f\n",
    "\n",
    "### Why QA models? Comparing different models\n",
    "| Approach                           | What it does                                                                           | Pros                                                                                                                             | Cons                                                                                                                 |\n",
    "| ---------------------------------- | -------------------------------------------------------------------------------------- | -------------------------------------------------------------------------------------------------------------------------------- | -------------------------------------------------------------------------------------------------------------------- | ---------------------------------------------------------------- |\n",
    "| **Text Classification**            | Assigns a label to an entire chunk of text (e.g. \"this section contains height rules\") | Simple to set up; works well if zoning is neatly sectioned                                                                       | Can’t extract numeric values; only gives category                                                                    |\n",
    "| **NER (Named Entity Recognition)** | Finds predefined entities in text (e.g. `HEIGHT=9.1 m`, `LOT_COVERAGE=35%`)            | Good for structured outputs; works well if entity spans are clearly defined                                                      | Requires labeled token-level data; zoning text is irregular (tables, bullets, weird formatting); not great zero-shot |\n",
    "| **QA (Question Answering)**        | Extracts a text span from context given a natural-language question                    | Works very well zero-shot with SQuAD models; doesn’t need special labeling format; flexible (“What is the max building height?”) | Requires splitting long contexts; can hallucinate occasionally                                                       ||\n",
    "\n",
    "\n",
    "### Imports and Set Up"
   ]
  },
  {
   "cell_type": "code",
   "execution_count": null,
   "id": "209ee48c",
   "metadata": {},
   "outputs": [],
   "source": [
    "from transformers import pipeline\n",
    "import pandas as pd\n",
    "import evaluate"
   ]
  },
  {
   "cell_type": "code",
   "execution_count": null,
   "id": "061946c6",
   "metadata": {},
   "outputs": [],
   "source": [
    "# Load SQuAD metrics\n",
    "squad_metric = evaluate.load(\"squad\")\n",
    "\n",
    "# Set up array to store LLM responses\n",
    "results = []\n",
    "\n",
    "# Evaluation helper function to prepare inputs for Hugging Face SQuAD metrics\n",
    "def evaluate_model(res, model):\n",
    "\n",
    "    # res or results: results dictionary containing the outputs of the LLMs/predictions and ground truth\n",
    "    # model: \"distil_answer\" or \"legal_answer\"\n",
    "\n",
    "    predictions = []\n",
    "    references = []\n",
    "\n",
    "    for r in res:\n",
    "        predictions.append({\n",
    "            \"id\": str(r[\"doc_id\"]),\n",
    "            \"prediction_text\": r[model]\n",
    "        })\n",
    "        references.append({\n",
    "            \"id\": str(r[\"doc_id\"]),\n",
    "            \"answers\": {\n",
    "                \"text\": [r[\"ground_truth\"]],\n",
    "                \"answer_start\": [0]  # dummy value\n",
    "            }\n",
    "        })\n",
    "\n",
    "    # Compute metrics\n",
    "    return squad_metric.compute(predictions=predictions, references=references)"
   ]
  },
  {
   "cell_type": "code",
   "execution_count": 3,
   "id": "fc73870c",
   "metadata": {},
   "outputs": [],
   "source": [
    "# Create a small labeled evaluation dataset\n",
    "dataset = [\n",
    "    {\n",
    "        \"doc_id\": 1,\n",
    "        \"context\": \"\"\"\n",
    "        Maximum Height:       \n",
    "        Principal Building \n",
    "        12.0 m | 4 storeys,    \n",
    "        Accessory Buildings \n",
    "        4.0 m | 1 storey \n",
    "        \"\"\",\n",
    "        \"question\": \"What is the maximum building height for accessory buildings?\",\n",
    "        \"ground_truth\": \"4.0 m\"\n",
    "    },\n",
    "    {\n",
    "        \"doc_id\": 2,\n",
    "        \"context\": \"\"\"\n",
    "        Rowhouse Maximum Lot Area:\n",
    "        1-3 units: 280m2\n",
    "        Small-Scale Multi-Unit Maximum Lot Area:\n",
    "        1-3 units: -,\n",
    "        4 units: -,\n",
    "        5-6 units: -\n",
    "        \"\"\",\n",
    "        \"question\": \"What is the maximum lot area for 5-6 small-scale multi-units?\",\n",
    "        \"ground_truth\": \"not specified\"\n",
    "    },\n",
    "    {\n",
    "        \"doc_id\": 3,\n",
    "        \"context\": \"\"\"\n",
    "        A child care facility in the R1 District must:\n",
    "        (a) be limited to a maximum of 25 children;\n",
    "        (b) be located on a corner lot;\n",
    "        (c) comply with the development regulations under section 101.4 for 1 to 3 small-scale multi-unit dwelling units on a lot;\n",
    "        (d) be located on a lot that does not contain a dwelling unit or any other principal use; and\n",
    "        (e) comply with all other applicable regulations under this Bylaw.\n",
    "        \"\"\",\n",
    "        \"question\": \"Where does a child care facility in the R1 district be located?\",\n",
    "        \"ground_truth\": \"be located on a corner lot\"\n",
    "    },\n",
    "    {\n",
    "        \"doc_id\": 4,\n",
    "        \"context\": \"\"\"\n",
    "        some or all of the following regulations may apply to lots in the R1 District on the Community Heritage Register:\n",
    "        (a) panhandle lots and other irregularly shaped lots may be permitted subject to the following:\n",
    "            (i) lots with lane access shall have a minimum panhandle width of 1 m that is clear to a height of 2.5 m; and\n",
    "            (ii) lots without lane access shall have a minimum panhandle width of 4.5 m that is clear to a height of 2.5 m;\n",
    "        (b) maximum lot coverage as set out in Section 101.4 may be increased to up to 60%;\n",
    "        (c) all original architectural appurtenances, such as chimneys, railings, vents, decorative features, or similar, may be excluded from the maximum permitted height of a principal building;\n",
    "        (d) lot line setbacks for street yards may meet a minimum of 2.0 m;\n",
    "        (e) the minimum separation between buildings on the same lot as required under Section 101.4 may be reduced;\n",
    "        \"\"\",\n",
    "        \"question\": \"For lots in the R1 district on the Community Heritage Register, what is the minimum lot line setback for street yards?\",\n",
    "        \"ground_truth\": \"2.0 m\"\n",
    "    },\n",
    "    {\n",
    "        \"doc_id\": 5,\n",
    "        \"context\": \"\"\"\n",
    "        **Dwelling Type**\n",
    "        **Rowhouse[ .1]** **Small-Scale Multi-Unit**\n",
    "\n",
    "        Minimum Lot Width[ .2]\n",
    "\n",
    "        5 m, except 6.2 m for end unit\n",
    "        Interior Lot 10 m\n",
    "\n",
    "        lots\n",
    "\n",
    "        Corner Lot - Street 8 m 10 m\n",
    "\n",
    "        Corner Lot - Lane 6.2 m 10 m\n",
    "\n",
    "        Lot Area[ .3]\n",
    "\n",
    "        Minimum Lot Area       - 281 m[2]\n",
    "\n",
    "        Maximum Lot Area 280 m[2]       \n",
    "        .1 At the time of registration of the subdivision plan to create two or more rowhouse lots, the\n",
    "        registration of a Section 219 Covenant will be required to ensure that all adjoining rowhouse\n",
    "        dwellings will be constructed at the same time.\n",
    "\n",
    "        |Permitted Uses|Col2|\n",
    "        |---|---|\n",
    "        |Principal Use|Use-Specific Regulations|\n",
    "        |Small-Scale Multi-Unit Housing|-|\n",
    "        |Rowhouse Dwellings|101.5.2|\n",
    "        |Boarding, Lodging, or Rooming House|101.5.3|\n",
    "        |Group Home|-|\n",
    "        |Supportive Housing (Category A)|101.5.4|\n",
    "        |Child Care Facilities|101.5.6|\n",
    "        |Accessory Use|Use-Specific Regulations|\n",
    "        |Boarding Use (up to 2 boarders)|-|\n",
    "        |Home Occupations|6.8, 6.8A|\n",
    "        |Urban Agriculture|6.30|\n",
    "        |Accessory Buildings, Structures, and Uses|101.5.5, 6.6|\n",
    "        \"\"\",\n",
    "        \"question\": \"What is the minimum lot width for a rowhouse that has a street corner lot?\",\n",
    "        \"ground_truth\": \"Corner Lot - Street 8 m\"\n",
    "    },\n",
    "    {\n",
    "        \"doc_id\": 6,\n",
    "        \"context\": \"\"\"\n",
    "        The minimum number of dwelling units with at least 3 bedrooms must be provided on a lot as follows:\n",
    "        |Col1|Total Dwelling Units on a Lot|Col3|\n",
    "        |---|---|---|\n",
    "        ||1 to 3 Units|4 to 6 Units|\n",
    "        |Minimum 3+ Bedroom Units:|1 Unit|2 Units|\n",
    "        \"\"\",\n",
    "        \"question\": \"What is the total number of dwelling units permitted on a lot for 1 to 3 units?\",\n",
    "        \"ground_truth\": \"Minimum 3+ Bedroom Units: 1 Unit\"\n",
    "    },\n",
    "    {\n",
    "        \"doc_id\": 7,\n",
    "        \"context\": \"\"\"\n",
    "        101.6 General Regulations 101.6.1 Projections (1) The following features may project into the required minimum separation between buildings on the same lot: (a) steps and stairs; \n",
    "        (b) ornamental features, such as arbors, trellises, fish ponds, flag poles, or similar landscape features; \n",
    "        (c) terraces, decks, or other similar surfaces that are 1.0 m or less above grade; \n",
    "        (d) balconies, covered decks, uncovered decks, canopies, sunshades, or other similar features, including supporting structures, that are greater than 1.0 m above grade up to a maximum of 25 percent of the width of a required separation; \n",
    "        (e) belt courses, cornices, gutters, sills, chimneys, bay windows, or other similar features up to the lesser of 0.9 m or 25 percent of the width of a required separation; \n",
    "        (f) sunken access areas and window wells as per Section 6.9; \n",
    "        (g) outdoor appliances; and \n",
    "        (h) eaves up to the lesser of 1.2 m (3.94 ft.) or 25 percent of the width of a required separation.\n",
    "        (2) Permitted projections into required yards are subject to Section 6.12, except that in the R1 District projections into required rear or side yards are limited to a maximum of 0.5 m where the rear or side yard abuts a lane to provide adequate fire truck clearance. \n",
    "\n",
    "        101.6.2 Outdoor Areas (1) An outdoor amenity space with a minimum width of 2.0 m and area of 10.0 m2 must be provided for each primary dwelling unit for its exclusive use and be directly accessible from the primary dwelling unit it serves.  \n",
    "        \n",
    "        101.6.3 Access and Fire Safety (1) Dwelling units located more than 45 m from a lot line abutting a street shall contain an automatic sprinkler system. \n",
    "        (2) All dwelling units shall have a minimum 1.0 m paved or gravel fire access corridor that: (a) provides direct pedestrian access from the dwelling unit entrance to a lot line abutting a street, or abutting a constructed lane where direct access to a street is not feasible; and \n",
    "        (b) is clear of any projections or obstructions to a minimum of 2.5 m in height.\n",
    "        \"\"\",\n",
    "        \"question\": \"What is the minimum width and area for outdoor amenity space for each primary dwelling unit?\",\n",
    "        \"ground_truth\": \"An outdoor amenity space with a minimum width of 2.0 m and area of 10.0 m2\"\n",
    "    }\n",
    "]"
   ]
  },
  {
   "cell_type": "code",
   "execution_count": 4,
   "id": "1c2233df",
   "metadata": {},
   "outputs": [
    {
     "name": "stderr",
     "output_type": "stream",
     "text": [
      "Xet Storage is enabled for this repo, but the 'hf_xet' package is not installed. Falling back to regular HTTP download. For better performance, install the package with: `pip install huggingface_hub[hf_xet]` or `pip install hf_xet`\n"
     ]
    },
    {
     "data": {
      "application/vnd.jupyter.widget-view+json": {
       "model_id": "1ae895907a4e44c59ae2ddf5aa2c2311",
       "version_major": 2,
       "version_minor": 0
      },
      "text/plain": [
       "model.safetensors:   0%|          | 0.00/265M [00:00<?, ?B/s]"
      ]
     },
     "metadata": {},
     "output_type": "display_data"
    },
    {
     "name": "stderr",
     "output_type": "stream",
     "text": [
      "c:\\Users\\jtang\\AppData\\Local\\Programs\\Python\\Python313\\Lib\\site-packages\\huggingface_hub\\file_download.py:143: UserWarning: `huggingface_hub` cache-system uses symlinks by default to efficiently store duplicated files but your machine does not support them in C:\\Users\\jtang\\.cache\\huggingface\\hub\\models--distilbert-base-uncased-distilled-squad. Caching files will still work but in a degraded version that might require more space on your disk. This warning can be disabled by setting the `HF_HUB_DISABLE_SYMLINKS_WARNING` environment variable. For more details, see https://huggingface.co/docs/huggingface_hub/how-to-cache#limitations.\n",
      "To support symlinks on Windows, you either need to activate Developer Mode or to run Python as an administrator. In order to activate developer mode, see this article: https://docs.microsoft.com/en-us/windows/apps/get-started/enable-your-device-for-development\n",
      "  warnings.warn(message)\n"
     ]
    },
    {
     "data": {
      "application/vnd.jupyter.widget-view+json": {
       "model_id": "8091cb3b549a411db8ff599a04682964",
       "version_major": 2,
       "version_minor": 0
      },
      "text/plain": [
       "tokenizer_config.json:   0%|          | 0.00/48.0 [00:00<?, ?B/s]"
      ]
     },
     "metadata": {},
     "output_type": "display_data"
    },
    {
     "data": {
      "application/vnd.jupyter.widget-view+json": {
       "model_id": "ccb4795f25014e72897616d75034b3b9",
       "version_major": 2,
       "version_minor": 0
      },
      "text/plain": [
       "vocab.txt:   0%|          | 0.00/232k [00:00<?, ?B/s]"
      ]
     },
     "metadata": {},
     "output_type": "display_data"
    },
    {
     "data": {
      "application/vnd.jupyter.widget-view+json": {
       "model_id": "76ab5f8ec88f49bc8ce6662695c8e7ad",
       "version_major": 2,
       "version_minor": 0
      },
      "text/plain": [
       "tokenizer.json:   0%|          | 0.00/466k [00:00<?, ?B/s]"
      ]
     },
     "metadata": {},
     "output_type": "display_data"
    },
    {
     "name": "stderr",
     "output_type": "stream",
     "text": [
      "Device set to use cpu\n"
     ]
    },
    {
     "data": {
      "application/vnd.jupyter.widget-view+json": {
       "model_id": "5e726c900f524d29bdb8955d9211142b",
       "version_major": 2,
       "version_minor": 0
      },
      "text/plain": [
       "config.json:   0%|          | 0.00/989 [00:00<?, ?B/s]"
      ]
     },
     "metadata": {},
     "output_type": "display_data"
    },
    {
     "name": "stderr",
     "output_type": "stream",
     "text": [
      "c:\\Users\\jtang\\AppData\\Local\\Programs\\Python\\Python313\\Lib\\site-packages\\huggingface_hub\\file_download.py:143: UserWarning: `huggingface_hub` cache-system uses symlinks by default to efficiently store duplicated files but your machine does not support them in C:\\Users\\jtang\\.cache\\huggingface\\hub\\models--nlpaueb--legal-bert-small-uncased. Caching files will still work but in a degraded version that might require more space on your disk. This warning can be disabled by setting the `HF_HUB_DISABLE_SYMLINKS_WARNING` environment variable. For more details, see https://huggingface.co/docs/huggingface_hub/how-to-cache#limitations.\n",
      "To support symlinks on Windows, you either need to activate Developer Mode or to run Python as an administrator. In order to activate developer mode, see this article: https://docs.microsoft.com/en-us/windows/apps/get-started/enable-your-device-for-development\n",
      "  warnings.warn(message)\n",
      "Xet Storage is enabled for this repo, but the 'hf_xet' package is not installed. Falling back to regular HTTP download. For better performance, install the package with: `pip install huggingface_hub[hf_xet]` or `pip install hf_xet`\n"
     ]
    },
    {
     "data": {
      "application/vnd.jupyter.widget-view+json": {
       "model_id": "c29f683b3b6243e6bc751c41074dc3b0",
       "version_major": 2,
       "version_minor": 0
      },
      "text/plain": [
       "pytorch_model.bin:   0%|          | 0.00/141M [00:00<?, ?B/s]"
      ]
     },
     "metadata": {},
     "output_type": "display_data"
    },
    {
     "name": "stderr",
     "output_type": "stream",
     "text": [
      "Some weights of BertForQuestionAnswering were not initialized from the model checkpoint at nlpaueb/legal-bert-small-uncased and are newly initialized: ['qa_outputs.bias', 'qa_outputs.weight']\n",
      "You should probably TRAIN this model on a down-stream task to be able to use it for predictions and inference.\n"
     ]
    },
    {
     "data": {
      "application/vnd.jupyter.widget-view+json": {
       "model_id": "48bb419eae88437b9949c7c3aaf9236e",
       "version_major": 2,
       "version_minor": 0
      },
      "text/plain": [
       "tokenizer_config.json:   0%|          | 0.00/48.0 [00:00<?, ?B/s]"
      ]
     },
     "metadata": {},
     "output_type": "display_data"
    },
    {
     "name": "stderr",
     "output_type": "stream",
     "text": [
      "Xet Storage is enabled for this repo, but the 'hf_xet' package is not installed. Falling back to regular HTTP download. For better performance, install the package with: `pip install huggingface_hub[hf_xet]` or `pip install hf_xet`\n"
     ]
    },
    {
     "data": {
      "application/vnd.jupyter.widget-view+json": {
       "model_id": "34cae183789041aa8bc29e169f1c72cf",
       "version_major": 2,
       "version_minor": 0
      },
      "text/plain": [
       "vocab.txt: 0.00B [00:00, ?B/s]"
      ]
     },
     "metadata": {},
     "output_type": "display_data"
    },
    {
     "data": {
      "application/vnd.jupyter.widget-view+json": {
       "model_id": "ccb6b269034f447cadcab1c3be891c57",
       "version_major": 2,
       "version_minor": 0
      },
      "text/plain": [
       "model.safetensors:   0%|          | 0.00/141M [00:00<?, ?B/s]"
      ]
     },
     "metadata": {},
     "output_type": "display_data"
    },
    {
     "name": "stderr",
     "output_type": "stream",
     "text": [
      "Device set to use cpu\n"
     ]
    }
   ],
   "source": [
    "# Load QA Pipelines for each model\n",
    "# DistilBERT\n",
    "distilbert_qa = pipeline(\n",
    "    \"question-answering\",\n",
    "    model = \"distilbert-base-uncased-distilled-squad\"\n",
    ")\n",
    "\n",
    "# LegalBERT\n",
    "legalbert_qa = pipeline(\n",
    "    \"question-answering\",\n",
    "    model=\"nlpaueb/legal-bert-small-uncased\"\n",
    ")"
   ]
  },
  {
   "cell_type": "code",
   "execution_count": null,
   "id": "7df487a9",
   "metadata": {},
   "outputs": [],
   "source": [
    "# Run zero shot qa for DistilBERT and LegalBERT to compare\n",
    "\n",
    "for data in dataset:\n",
    "    q = data['question']\n",
    "    ctext = data['context']\n",
    "    truth = data['ground_truth']\n",
    "\n",
    "    # DistilBERT\n",
    "    distil_response = distilbert_qa(question=q, context=ctext)['answer']\n",
    "    # LegalBERT\n",
    "    legal_response = legalbert_qa(question=q, context=ctext)['answer']\n",
    "\n",
    "    results.append({\n",
    "        \"doc_id\": data['doc_id'],\n",
    "        \"question\": q,\n",
    "        \"ground_truth\": truth,\n",
    "        \"distil_answer\": distil_response,\n",
    "        \"legal_answer\": legal_response\n",
    "    })\n",
    "\n",
    "dataframe = pd.DataFrame(results)\n",
    "dataframe"
   ]
  },
  {
   "cell_type": "code",
   "execution_count": null,
   "id": "cbdd22bb",
   "metadata": {},
   "outputs": [],
   "source": [
    "# Evaluation and metrics\n",
    "\n",
    "distil_metrics = evaluate_model(results, \"distil_answer\")\n",
    "legal_metrics = evaluate_model(results, \"legal_answer\")\n",
    "\n",
    "print(\"DistilBERT Metrics:\", distil_metrics)\n",
    "print(\"LegalBERT Metrics:\", legal_metrics)"
   ]
  }
 ],
 "metadata": {
  "kernelspec": {
   "display_name": "Python 3",
   "language": "python",
   "name": "python3"
  },
  "language_info": {
   "codemirror_mode": {
    "name": "ipython",
    "version": 3
   },
   "file_extension": ".py",
   "mimetype": "text/x-python",
   "name": "python",
   "nbconvert_exporter": "python",
   "pygments_lexer": "ipython3",
   "version": "3.13.0"
  }
 },
 "nbformat": 4,
 "nbformat_minor": 5
}
