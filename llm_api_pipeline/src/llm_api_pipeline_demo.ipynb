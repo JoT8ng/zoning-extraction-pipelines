{
 "cells": [
  {
   "cell_type": "markdown",
   "id": "8fa78723",
   "metadata": {},
   "source": [
    "# Claude LLM API Pipeline Demo\n",
    "\n",
    "### Introduction\n",
    "Zoning By-laws contain important information about land use, building height, density, and other development regulations. They are important documents that inform urban planning and development decisions in cities.\n",
    "\n",
    "They are often stored as long, unstructured PDF legal documents and it's difficult to find information within them. Zoning information is also spatial and tied to geospatial datasets. It would be great if the zoning information in the by-laws could be extracted in an efficient and automated way and joined with geospatial datasets.\n",
    "\n",
    "This pipeline explores extracting the zoning information by first extracting and parsing the text as markdown from the by-law PDFs, then sending a query to the LLM API with the extracted text. The LLM responds with the zoning information and the response is processed and exported into CSV format and joined with a zoning GeoJSON dataset.\n",
    "\n",
    "![Diagram](images/BylawExtractLogicDiagram.png)\n",
    "\n",
    "### Credits\n",
    "This pipeline was originally developed as part of a group project.\n",
    "\n",
    "My role involved:\n",
    "* Designing the overall pipeline architecture (PDF -> Markdown -> Text parsing -> LLM query -> LLM output to markdown text)\n",
    "* Implementing the initial codebase and repository for the pipeline and setting up git for version control\n",
    "\n",
    "Team contributions:\n",
    "* LLM query and prompt refinement\n",
    "* Extended the pipeline by building post processing scripts: Output to CSV tables and join with GeoJSON geospatial zoning data\n",
    "\n",
    "This repository contains the version of the pipeline I maintain independently.\n",
    "\n",
    "### Getting Started\n",
    "\n",
    "This pipeline requires the user to have an AWS account that has access to the Anthropic Claude 3 Sonnet foundation model. It also requires the user to have configured AWS CLI with credentials and region on their computer.\n",
    "\n",
    "Please refer to this pipeline's [README.md](https://github.com/JoT8ng/zoning-extraction-pipelines/blob/main/llm_api_pipeline/src/README.md) for information on how to create a Python virtual environment and install the required Python modules in the requirements.txt file.\n",
    "\n",
    "### 0. Import Python Modules\n",
    "\n"
   ]
  }
 ],
 "metadata": {
  "language_info": {
   "name": "python"
  }
 },
 "nbformat": 4,
 "nbformat_minor": 5
}
